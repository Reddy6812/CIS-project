{
 "cells": [
  {
   "cell_type": "code",
   "execution_count": 1,
   "id": "d1f70e13-eadd-48aa-8b88-e655feffda83",
   "metadata": {
    "tags": []
   },
   "outputs": [
    {
     "name": "stderr",
     "output_type": "stream",
     "text": [
      "/apps/pytorch/2.2.0/lib/python3.10/site-packages/tqdm/auto.py:21: TqdmWarning: IProgress not found. Please update jupyter and ipywidgets. See https://ipywidgets.readthedocs.io/en/stable/user_install.html\n",
      "  from .autonotebook import tqdm as notebook_tqdm\n"
     ]
    }
   ],
   "source": [
    "import torch\n",
    "from torch import nn\n",
    "import torch.nn.functional as F\n",
    "from torch.utils.data import DataLoader, TensorDataset\n",
    "from transformers import Wav2Vec2Processor, Wav2Vec2Model\n",
    "import pickle\n",
    "import os\n"
   ]
  },
  {
   "cell_type": "code",
   "execution_count": 2,
   "id": "7cbbfd6a-f04b-400e-8c28-8be9f53d78a4",
   "metadata": {
    "tags": []
   },
   "outputs": [],
   "source": [
    "# Define the AudioCNN class\n",
    "class AudioCNN(nn.Module):\n",
    "    def __init__(self, num_classes):\n",
    "        super(AudioCNN, self).__init__()\n",
    "        self.conv1 = nn.Conv1d(1, 16, kernel_size=3, stride=1, padding=1)\n",
    "        self.conv2 = nn.Conv1d(16, 32, kernel_size=3, stride=1, padding=1)\n",
    "        self.conv3 = nn.Conv1d(32, 64, kernel_size=3, stride=1, padding=1)\n",
    "        self.pool = nn.MaxPool1d(kernel_size=2, stride=2)\n",
    "        self.fc1 = nn.Linear(64, 128)  # This 64 will be replaced dynamically\n",
    "        self.fc2 = nn.Linear(128, num_classes)\n",
    "\n",
    "    def forward(self, x):\n",
    "        x = F.relu(self.conv1(x))\n",
    "        x = self.pool(x)\n",
    "        x = F.relu(self.conv2(x))\n",
    "        x = self.pool(x)\n",
    "        x = F.relu(self.conv3(x))\n",
    "        x = self.pool(x)\n",
    "        x = x.view(x.size(0), -1)  # Flatten the features for the linear layer\n",
    "        x = F.relu(self.fc1(x))\n",
    "        x = self.fc2(x)\n",
    "        return x\n",
    "\n",
    "    def initialize_fc1(self, input_size):\n",
    "        sample_input = torch.rand(1, 1, input_size)\n",
    "        output = self.pool(F.relu(self.conv3(self.pool(F.relu(self.conv2(self.pool(F.relu(self.conv1(sample_input)))))))))\n",
    "        output_size = output.view(-1).shape[0]\n",
    "        self.fc1 = nn.Linear(output_size, 128)\n",
    "\n",
    "# Function to load data\n",
    "def load_data(dataset_path, data_type, sampling_rate=16000):\n",
    "    data = []\n",
    "    labels = []\n",
    "    processor = Wav2Vec2Processor.from_pretrained(\"facebook/wav2vec2-large-960h\")\n",
    "    model_wav2vec2 = Wav2Vec2Model.from_pretrained(\"facebook/wav2vec2-large-960h\")\n",
    "\n",
    "    for file_number in range(1, 51):\n",
    "        filename = f\"data_{file_number}_{data_type}.pkl\"\n",
    "        file_path = os.path.join(dataset_path, filename)\n",
    "        if os.path.exists(file_path):\n",
    "            with open(file_path, 'rb') as file:\n",
    "                file_data = pickle.load(file)\n",
    "                for waveform, label in file_data:\n",
    "                    input_values = processor(waveform.squeeze().numpy(), return_tensors=\"pt\", sampling_rate=sampling_rate).input_values\n",
    "                    with torch.no_grad():\n",
    "                        features = model_wav2vec2(input_values).last_hidden_state.squeeze().mean(dim=0)\n",
    "                    data.append(features)\n",
    "                    labels.append(label)\n",
    "    labels = [x[0] for x in labels]\n",
    "    print(\"accessing files completed.......\")\n",
    "    return torch.stack(data), torch.tensor(labels)\n"
   ]
  },
  {
   "cell_type": "code",
   "execution_count": 3,
   "id": "311245ff-18ed-493a-84bb-fde391b6bd01",
   "metadata": {
    "tags": []
   },
   "outputs": [
    {
     "name": "stderr",
     "output_type": "stream",
     "text": [
      "Some weights of Wav2Vec2Model were not initialized from the model checkpoint at facebook/wav2vec2-large-960h and are newly initialized: ['wav2vec2.encoder.pos_conv_embed.conv.parametrizations.weight.original0', 'wav2vec2.encoder.pos_conv_embed.conv.parametrizations.weight.original1', 'wav2vec2.masked_spec_embed']\n",
      "You should probably TRAIN this model on a down-stream task to be able to use it for predictions and inference.\n"
     ]
    },
    {
     "name": "stdout",
     "output_type": "stream",
     "text": [
      "accessing files completed.......\n",
      "train data load complete\n"
     ]
    },
    {
     "name": "stderr",
     "output_type": "stream",
     "text": [
      "Some weights of Wav2Vec2Model were not initialized from the model checkpoint at facebook/wav2vec2-large-960h and are newly initialized: ['wav2vec2.encoder.pos_conv_embed.conv.parametrizations.weight.original0', 'wav2vec2.encoder.pos_conv_embed.conv.parametrizations.weight.original1', 'wav2vec2.masked_spec_embed']\n",
      "You should probably TRAIN this model on a down-stream task to be able to use it for predictions and inference.\n"
     ]
    },
    {
     "name": "stdout",
     "output_type": "stream",
     "text": [
      "accessing files completed.......\n",
      "valid data load complete\n"
     ]
    },
    {
     "name": "stderr",
     "output_type": "stream",
     "text": [
      "Some weights of Wav2Vec2Model were not initialized from the model checkpoint at facebook/wav2vec2-large-960h and are newly initialized: ['wav2vec2.encoder.pos_conv_embed.conv.parametrizations.weight.original0', 'wav2vec2.encoder.pos_conv_embed.conv.parametrizations.weight.original1', 'wav2vec2.masked_spec_embed']\n",
      "You should probably TRAIN this model on a down-stream task to be able to use it for predictions and inference.\n"
     ]
    },
    {
     "name": "stdout",
     "output_type": "stream",
     "text": [
      "accessing files completed.......\n",
      "test data load complete\n"
     ]
    }
   ],
   "source": [
    "\n",
    "# Load data\n",
    "dataset_path = 'emi_dataset/'\n",
    "\n",
    "\n",
    "train_data, train_labels = load_data(dataset_path, \"train\")\n",
    "print(\"train data load complete\")\n",
    "train_loader = DataLoader(TensorDataset(train_data, train_labels), batch_size=32, shuffle=True)\n",
    "\n",
    "validate_data, validate_labels = load_data(dataset_path, \"valid\")\n",
    "print(\"valid data load complete\")\n",
    "validate_loader = DataLoader(TensorDataset(validate_data, validate_labels), batch_size=32)\n",
    "\n",
    "test_data, test_labels = load_data(dataset_path, \"test\")\n",
    "print(\"test data load complete\")\n",
    "test_loader = DataLoader(TensorDataset(test_data, test_labels), batch_size=32)\n"
   ]
  },
  {
   "cell_type": "code",
   "execution_count": 1,
   "id": "ce382930-5efe-4f7c-82e2-ff4a60b3ccae",
   "metadata": {
    "tags": []
   },
   "outputs": [
    {
     "ename": "NameError",
     "evalue": "name 'AudioCNN' is not defined",
     "output_type": "error",
     "traceback": [
      "\u001b[0;31m---------------------------------------------------------------------------\u001b[0m",
      "\u001b[0;31mNameError\u001b[0m                                 Traceback (most recent call last)",
      "Cell \u001b[0;32mIn[1], line 3\u001b[0m\n\u001b[1;32m      1\u001b[0m \u001b[38;5;66;03m# Initialize AudioCNN and load the pre-trained model\u001b[39;00m\n\u001b[1;32m      2\u001b[0m num_classes \u001b[38;5;241m=\u001b[39m \u001b[38;5;241m10\u001b[39m  \u001b[38;5;66;03m# Update based on your dataset\u001b[39;00m\n\u001b[0;32m----> 3\u001b[0m audio_cnn \u001b[38;5;241m=\u001b[39m \u001b[43mAudioCNN\u001b[49m(num_classes\u001b[38;5;241m=\u001b[39mnum_classes)\n\u001b[1;32m      4\u001b[0m audio_cnn\u001b[38;5;241m.\u001b[39minitialize_fc1(\u001b[38;5;241m1024\u001b[39m)  \u001b[38;5;66;03m# Initialize with the correct input size\u001b[39;00m\n\u001b[1;32m      6\u001b[0m \u001b[38;5;66;03m# Load the saved model\u001b[39;00m\n",
      "\u001b[0;31mNameError\u001b[0m: name 'AudioCNN' is not defined"
     ]
    }
   ],
   "source": [
    "# Initialize AudioCNN and load the pre-trained model\n",
    "num_classes = 10  # Update based on your dataset\n",
    "audio_cnn = AudioCNN(num_classes=num_classes)\n",
    "audio_cnn.initialize_fc1(1024)  # Initialize with the correct input size\n",
    "\n",
    "# Load the saved model\n",
    "model_path = 'model_directory/audiocnn.pth'\n",
    "\n",
    "if os.path.exists(model_path):\n",
    "    saved_state_dict = torch.load(model_path, map_location=torch.device('cpu'))\n",
    "    audio_cnn.load_state_dict(saved_state_dict)\n",
    "    \n",
    "\n",
    "# Define optimizer and loss function\n",
    "optimizer = torch.optim.Adam(audio_cnn.parameters(), lr=0.001)\n",
    "criterion = nn.CrossEntropyLoss()\n",
    "\n",
    "# Training loop\n",
    "print(\"reached training loop, setting epochs to 10\")\n",
    "epochs = 20\n",
    "for epoch in range(epochs):\n",
    "    audio_cnn.train()  # Set the model to training mode\n",
    "    running_loss = 0.0\n",
    "    for features, labels in train_loader:\n",
    "        optimizer.zero_grad()  # Zero the parameter gradients\n",
    "        outputs = audio_cnn(features.unsqueeze(1))\n",
    "        loss = criterion(outputs, labels)\n",
    "        loss.backward()  # Backpropagation\n",
    "        optimizer.step()  # Optimize\n",
    "        running_loss += loss.item()\n",
    "\n",
    "    # Print training loss\n",
    "    print(f'Epoch {epoch+1}, Training Loss: {running_loss / len(train_loader):.4f}')\n",
    "\n",
    "    # Validation phase\n",
    "    audio_cnn.eval()  # Set the model to evaluation mode\n",
    "    validation_loss = 0.0\n",
    "    correct = 0\n",
    "    total = 0\n",
    "    with torch.no_grad():\n",
    "        for features, labels in validate_loader:\n",
    "            outputs = audio_cnn(features.unsqueeze(1))\n",
    "            loss = criterion(outputs, labels)\n",
    "            validation_loss += loss.item()\n",
    "            _, predicted = torch.max(outputs.data, 1)\n",
    "            total += labels.size(0)\n",
    "            correct += (predicted == labels).sum().item()\n",
    "    print(f'Epoch {epoch+1}, Validation Loss: {validation_loss / len(validate_loader):.4f}, Validation Accuracy: {(100 * correct / total):.2f}%')\n",
    "\n",
    "    # Test phase\n",
    "    correct = 0\n",
    "    total = 0\n",
    "    with torch.no_grad():\n",
    "        for features, labels in test_loader:\n",
    "            outputs = audio_cnn(features.unsqueeze(1))\n",
    "            _, predicted = torch.max(outputs.data, 1)\n",
    "            total += labels.size(0)\n",
    "            correct += (predicted == labels).sum().item()\n",
    "    print(f'Epoch {epoch+1}, Test Accuracy: {(100 * correct / total):.2f}%')"
   ]
  },
  {
   "cell_type": "code",
   "execution_count": null,
   "id": "437a192f-79bf-44c0-ae47-04a2c3a58d01",
   "metadata": {},
   "outputs": [],
   "source": []
  }
 ],
 "metadata": {
  "kernelspec": {
   "display_name": "PyTorch-2.2.0",
   "language": "python",
   "name": "pytorch-2.2.0"
  },
  "language_info": {
   "codemirror_mode": {
    "name": "ipython",
    "version": 3
   },
   "file_extension": ".py",
   "mimetype": "text/x-python",
   "name": "python",
   "nbconvert_exporter": "python",
   "pygments_lexer": "ipython3",
   "version": "3.10.13"
  }
 },
 "nbformat": 4,
 "nbformat_minor": 5
}
